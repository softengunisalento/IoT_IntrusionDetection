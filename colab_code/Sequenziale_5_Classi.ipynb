{
  "nbformat": 4,
  "nbformat_minor": 0,
  "metadata": {
    "colab": {
      "provenance": [],
      "toc_visible": true,
      "collapsed_sections": [
        "yzUSKTwz9w0w"
      ]
    },
    "kernelspec": {
      "name": "python3",
      "display_name": "Python 3"
    },
    "language_info": {
      "name": "python"
    }
  },
  "cells": [
    {
      "cell_type": "markdown",
      "source": [
        "# NSL-KDD: Sequenziale 5 Classi"
      ],
      "metadata": {
        "id": "M7PNGkYl0kj6"
      }
    },
    {
      "cell_type": "markdown",
      "source": [
        "### Importo librerie e dati"
      ],
      "metadata": {
        "id": "08XuHjuz0sLI"
      }
    },
    {
      "cell_type": "code",
      "source": [
        "from google.colab import drive\n",
        "drive.mount('/drive')\n",
        "\n",
        "import tensorflow as tf\n",
        "from tensorflow import keras\n",
        "from tensorflow.keras import layers\n",
        "\n",
        "import numpy as np\n",
        "import matplotlib.pyplot as plt\n",
        "import pandas as pd\n",
        "\n",
        "from sklearn.utils import shuffle\n",
        "from sklearn import preprocessing\n",
        "from sklearn.model_selection import train_test_split"
      ],
      "metadata": {
        "colab": {
          "base_uri": "https://localhost:8080/"
        },
        "id": "aWD7PECc0kR4",
        "outputId": "ba0f0054-a9ed-4b17-e810-372165785dc2"
      },
      "execution_count": null,
      "outputs": [
        {
          "output_type": "stream",
          "name": "stdout",
          "text": [
            "Mounted at /drive\n"
          ]
        }
      ]
    },
    {
      "cell_type": "code",
      "execution_count": null,
      "metadata": {
        "id": "obFBcMCN0hPD"
      },
      "outputs": [],
      "source": [
        "#creo il nome delle colonne\n",
        "columns = np.array(['duration','protocol_type','service','flag','src_bytes','dst_bytes','land','wrong_fragment','urgent','hot','num_failed_logins',\n",
        "           'logged_in','num_compromised','root_shell','su_attempted','num_root','num_file_creations','num_shells','num_access_files','num_outbound_cmds',\n",
        "           'is_host_login','is_guest_login','count','srv_count','serror_rate','srv_serror_rate','rerror_rate','srv_rerror_rate','same_srv_rate',\n",
        "           'diff_srv_rate','srv_diff_host_rate','dst_host_count','dst_host_srv_count','dst_host_same_srv_rate','dst_host_diff_srv_rate',\n",
        "           'dst_host_same_src_port_rate','dst_host_srv_diff_host_rate','dst_host_serror_rate','dst_host_srv_serror_rate','dst_host_rerror_rate',\n",
        "           'dst_host_srv_rerror_rate','Attack', 'difficulty'])\n",
        "#features raccoglie le colonne con dati utili all'algoritmo\n",
        "features = np.array(['duration','protocol_type','service','flag','src_bytes','dst_bytes','land','wrong_fragment','urgent','hot','num_failed_logins',\n",
        "           'logged_in','num_compromised','root_shell','su_attempted','num_root','num_file_creations','num_shells','num_access_files','num_outbound_cmds',\n",
        "           'is_host_login','is_guest_login','count','srv_count','serror_rate','srv_serror_rate','rerror_rate','srv_rerror_rate','same_srv_rate',\n",
        "           'diff_srv_rate','srv_diff_host_rate','dst_host_count','dst_host_srv_count','dst_host_same_srv_rate','dst_host_diff_srv_rate',\n",
        "           'dst_host_same_src_port_rate','dst_host_srv_diff_host_rate','dst_host_serror_rate','dst_host_srv_serror_rate','dst_host_rerror_rate',\n",
        "           'dst_host_srv_rerror_rate'])\n",
        "#target contiene la colonna con l'output\n",
        "target = np.array(['Attack'])"
      ]
    },
    {
      "cell_type": "code",
      "source": [
        "#importo i dataset\n",
        "train = pd.read_csv('/drive/My Drive/NSLKDD/Dataset/KDDTrain+.txt', names=columns)\n",
        "test = pd.read_csv('/drive/My Drive/NSLKDD/Dataset/KDDTest+.txt', names=columns)"
      ],
      "metadata": {
        "id": "mADSJFsU0_7d"
      },
      "execution_count": null,
      "outputs": []
    },
    {
      "cell_type": "markdown",
      "source": [
        "### Modello il dataset"
      ],
      "metadata": {
        "id": "4YAIL4Ie1jIb"
      }
    },
    {
      "cell_type": "code",
      "source": [
        "#cancello la colonna difficulty in quanto non necessaria\n",
        "del train['difficulty']\n",
        "del test['difficulty']"
      ],
      "metadata": {
        "id": "Z1x4ipS62tQp"
      },
      "execution_count": null,
      "outputs": []
    },
    {
      "cell_type": "code",
      "source": [
        "print('Features Totali:',features.size)\n",
        "print('Target Totali:',target.size)"
      ],
      "metadata": {
        "colab": {
          "base_uri": "https://localhost:8080/"
        },
        "id": "QOwOAUKM0_cT",
        "outputId": "34d63390-d9a9-47de-d842-d53dac7b46e1"
      },
      "execution_count": null,
      "outputs": [
        {
          "output_type": "stream",
          "name": "stdout",
          "text": [
            "Features Totali: 41\n",
            "Target Totali: 1\n"
          ]
        }
      ]
    },
    {
      "cell_type": "code",
      "source": [
        "#controllo le dimensioni\n",
        "print('Train:', train.shape)\n",
        "print('Test:', test.shape)"
      ],
      "metadata": {
        "colab": {
          "base_uri": "https://localhost:8080/"
        },
        "id": "dnZFgXNo1JRJ",
        "outputId": "d32e4ac5-bef6-42ef-be46-7092c464d2c7"
      },
      "execution_count": null,
      "outputs": [
        {
          "output_type": "stream",
          "name": "stdout",
          "text": [
            "Train: (125973, 42)\n",
            "Test: (22544, 42)\n"
          ]
        }
      ]
    },
    {
      "cell_type": "code",
      "source": [
        "#Load attacks.txt containing the attack categories\n",
        "map_attacks = [x.strip().split() for x in open('/drive/My Drive/NSLKDD/Dataset/attackMap.txt', 'r')]\n",
        "map_attacks = {k:v for (k,v) in map_attacks}\n",
        "\n",
        "train['Attack'] = train['Attack'].replace(map_attacks)\n",
        "test['Attack'] = test['Attack'].replace(map_attacks)"
      ],
      "metadata": {
        "id": "9B7iv30l1Nqu"
      },
      "execution_count": null,
      "outputs": []
    },
    {
      "cell_type": "code",
      "source": [
        "train.dtypes"
      ],
      "metadata": {
        "colab": {
          "base_uri": "https://localhost:8080/"
        },
        "id": "Ka4Q-P_C35eS",
        "outputId": "0b30bcae-9f03-4eed-8f19-7193fcb49916"
      },
      "execution_count": null,
      "outputs": [
        {
          "output_type": "execute_result",
          "data": {
            "text/plain": [
              "duration                         int64\n",
              "protocol_type                   object\n",
              "service                         object\n",
              "flag                            object\n",
              "src_bytes                        int64\n",
              "dst_bytes                        int64\n",
              "land                             int64\n",
              "wrong_fragment                   int64\n",
              "urgent                           int64\n",
              "hot                              int64\n",
              "num_failed_logins                int64\n",
              "logged_in                        int64\n",
              "num_compromised                  int64\n",
              "root_shell                       int64\n",
              "su_attempted                     int64\n",
              "num_root                         int64\n",
              "num_file_creations               int64\n",
              "num_shells                       int64\n",
              "num_access_files                 int64\n",
              "num_outbound_cmds                int64\n",
              "is_host_login                    int64\n",
              "is_guest_login                   int64\n",
              "count                            int64\n",
              "srv_count                        int64\n",
              "serror_rate                    float64\n",
              "srv_serror_rate                float64\n",
              "rerror_rate                    float64\n",
              "srv_rerror_rate                float64\n",
              "same_srv_rate                  float64\n",
              "diff_srv_rate                  float64\n",
              "srv_diff_host_rate             float64\n",
              "dst_host_count                   int64\n",
              "dst_host_srv_count               int64\n",
              "dst_host_same_srv_rate         float64\n",
              "dst_host_diff_srv_rate         float64\n",
              "dst_host_same_src_port_rate    float64\n",
              "dst_host_srv_diff_host_rate    float64\n",
              "dst_host_serror_rate           float64\n",
              "dst_host_srv_serror_rate       float64\n",
              "dst_host_rerror_rate           float64\n",
              "dst_host_srv_rerror_rate       float64\n",
              "Attack                          object\n",
              "dtype: object"
            ]
          },
          "metadata": {},
          "execution_count": 9
        }
      ]
    },
    {
      "cell_type": "code",
      "source": [
        "# unisco train e test per fare l'encoding\n",
        "df = pd.concat([train, test])"
      ],
      "metadata": {
        "id": "JjBf8yUKQfXN"
      },
      "execution_count": null,
      "outputs": []
    },
    {
      "cell_type": "code",
      "source": [
        "df.shape"
      ],
      "metadata": {
        "colab": {
          "base_uri": "https://localhost:8080/"
        },
        "id": "N5nBQs_mRCfz",
        "outputId": "47bb12b5-c5c3-4803-9178-0e030e380661"
      },
      "execution_count": null,
      "outputs": [
        {
          "output_type": "execute_result",
          "data": {
            "text/plain": [
              "(148517, 42)"
            ]
          },
          "metadata": {},
          "execution_count": 11
        }
      ]
    },
    {
      "cell_type": "code",
      "source": [
        "#Inizio a fare l'encoding degli object in category\n",
        "for i in columns:\n",
        "    if df[i].dtypes==object:\n",
        "        print(i + \": \" + str(df[i].dtype))\n",
        "        df[i] = df[i].astype('category')\n",
        "        if i==\"Attack\":\n",
        "            break\n",
        "        df=pd.get_dummies(df, columns=[i])   "
      ],
      "metadata": {
        "colab": {
          "base_uri": "https://localhost:8080/"
        },
        "id": "BDfqA0TS5DSG",
        "outputId": "8f421c55-a24f-487c-8255-65788251d064"
      },
      "execution_count": null,
      "outputs": [
        {
          "output_type": "stream",
          "name": "stdout",
          "text": [
            "protocol_type: object\n",
            "service: object\n",
            "flag: object\n",
            "Attack: object\n"
          ]
        }
      ]
    },
    {
      "cell_type": "code",
      "source": [
        "#feature e labels\n",
        "xCol = df.columns.drop('Attack')\n",
        "x = df[xCol].values\n",
        "dummies = pd.get_dummies(df['Attack']) # Classification\n",
        "outcomes = dummies.columns\n",
        "num_classes = len(outcomes)\n",
        "y = dummies.values"
      ],
      "metadata": {
        "id": "McRtefz28CxW"
      },
      "execution_count": null,
      "outputs": []
    },
    {
      "cell_type": "markdown",
      "source": [
        "### Creo i dati del training"
      ],
      "metadata": {
        "id": "yzUSKTwz9w0w"
      }
    },
    {
      "cell_type": "code",
      "source": [
        "# normalizzazione\n",
        "x = preprocessing.scale(x)\n",
        "x = preprocessing.normalize(x)"
      ],
      "metadata": {
        "id": "H-k-4JZk5C6-"
      },
      "execution_count": null,
      "outputs": []
    },
    {
      "cell_type": "code",
      "source": [
        "import io\n",
        "import requests\n",
        "import os\n",
        "from sklearn.model_selection import train_test_split\n",
        "from sklearn import metrics\n",
        "from tensorflow.keras.models import Sequential\n",
        "from tensorflow.keras.layers import Dense, Activation\n",
        "from tensorflow.keras.callbacks import EarlyStopping"
      ],
      "metadata": {
        "id": "floV6xmvDK84"
      },
      "execution_count": null,
      "outputs": []
    },
    {
      "cell_type": "code",
      "source": [
        "X = x[:125973] #sarà il train+validation\n",
        "xTest = x[125973:] # dati nuovi usati esclusivamente per l'evaluation\n",
        "Y = y[:125973] \n",
        "yTest = y[125973:]"
      ],
      "metadata": {
        "id": "OOBH-gnxT8Dv"
      },
      "execution_count": null,
      "outputs": []
    },
    {
      "cell_type": "code",
      "source": [
        "xTrain, xVal, yTrain, yVal = train_test_split(X, Y, test_size = 0.2, random_state = 42)\n",
        "print(len(xTrain), \"Training sequences\",xTrain.shape)\n",
        "print(len(yTrain), \"Training sequences\",yTrain.shape)\n",
        "print(len(xVal), \"Validation sequences\",xVal.shape)\n",
        "print(len(yVal), \"Validation sequences\",yVal.shape)"
      ],
      "metadata": {
        "colab": {
          "base_uri": "https://localhost:8080/"
        },
        "id": "hsTVBsq-5Cti",
        "outputId": "c3803abf-b39e-40cd-a0e8-79d1c7c41e13"
      },
      "execution_count": null,
      "outputs": [
        {
          "output_type": "stream",
          "name": "stdout",
          "text": [
            "100778 Training sequences (100778, 122)\n",
            "100778 Training sequences (100778, 5)\n",
            "25195 Validation sequences (25195, 122)\n",
            "25195 Validation sequences (25195, 5)\n"
          ]
        }
      ]
    },
    {
      "cell_type": "markdown",
      "source": [
        "### Creazione del modello Sequenziale"
      ],
      "metadata": {
        "id": "gUZYJMHEAnVi"
      }
    },
    {
      "cell_type": "code",
      "source": [
        "model = Sequential()\n",
        "model.add(Dense(10, input_dim=xTrain.shape[1], activation='relu'))\n",
        "model.add(Dense(50, input_dim=xTrain.shape[1], activation='relu'))\n",
        "model.add(Dense(10, input_dim=xTrain.shape[1], activation='relu'))\n",
        "model.add(Dense(1, kernel_initializer='normal'))\n",
        "model.add(Dense(yTrain.shape[1],activation='softmax'))\n",
        "model.compile(loss='categorical_crossentropy', optimizer='adam')\n",
        "monitor = EarlyStopping(monitor='val_loss', min_delta=1e-3, \n",
        "                        patience=5, verbose=1, mode='auto',\n",
        "                           restore_best_weights=True)"
      ],
      "metadata": {
        "id": "Wcj9fOpIDkGY"
      },
      "execution_count": null,
      "outputs": []
    },
    {
      "cell_type": "code",
      "source": [
        "model.summary()"
      ],
      "metadata": {
        "colab": {
          "base_uri": "https://localhost:8080/"
        },
        "id": "aF_mS6QrzKgS",
        "outputId": "18968ac3-17be-4e06-ad8e-68341ba8a4eb"
      },
      "execution_count": null,
      "outputs": [
        {
          "output_type": "stream",
          "name": "stdout",
          "text": [
            "Model: \"sequential\"\n",
            "_________________________________________________________________\n",
            " Layer (type)                Output Shape              Param #   \n",
            "=================================================================\n",
            " dense (Dense)               (None, 10)                1230      \n",
            "                                                                 \n",
            " dense_1 (Dense)             (None, 50)                550       \n",
            "                                                                 \n",
            " dense_2 (Dense)             (None, 10)                510       \n",
            "                                                                 \n",
            " dense_3 (Dense)             (None, 1)                 11        \n",
            "                                                                 \n",
            " dense_4 (Dense)             (None, 5)                 10        \n",
            "                                                                 \n",
            "=================================================================\n",
            "Total params: 2,311\n",
            "Trainable params: 2,311\n",
            "Non-trainable params: 0\n",
            "_________________________________________________________________\n"
          ]
        }
      ]
    },
    {
      "cell_type": "markdown",
      "source": [
        "#### Training"
      ],
      "metadata": {
        "id": "7Egn2816BDWg"
      }
    },
    {
      "cell_type": "code",
      "source": [
        "model.fit(xTrain,yTrain,validation_data=(xVal,yVal),\n",
        "          callbacks=[monitor],epochs=1000)"
      ],
      "metadata": {
        "colab": {
          "base_uri": "https://localhost:8080/"
        },
        "id": "Bmhs5Gsj-xkR",
        "outputId": "1de559b7-e9b8-4b3c-e477-428cc5d885da"
      },
      "execution_count": null,
      "outputs": [
        {
          "output_type": "stream",
          "name": "stdout",
          "text": [
            "Epoch 1/1000\n",
            "3150/3150 [==============================] - 8s 2ms/step - loss: 0.4172 - val_loss: 0.2349\n",
            "Epoch 2/1000\n",
            "3150/3150 [==============================] - 7s 2ms/step - loss: 0.1690 - val_loss: 0.1575\n",
            "Epoch 3/1000\n",
            "3150/3150 [==============================] - 7s 2ms/step - loss: 0.1159 - val_loss: 0.1256\n",
            "Epoch 4/1000\n",
            "3150/3150 [==============================] - 7s 2ms/step - loss: 0.0969 - val_loss: 0.1131\n",
            "Epoch 5/1000\n",
            "3150/3150 [==============================] - 7s 2ms/step - loss: 0.0895 - val_loss: 0.1064\n",
            "Epoch 6/1000\n",
            "3150/3150 [==============================] - 7s 2ms/step - loss: 0.0848 - val_loss: 0.1020\n",
            "Epoch 7/1000\n",
            "3150/3150 [==============================] - 8s 3ms/step - loss: 0.0808 - val_loss: 0.1006\n",
            "Epoch 8/1000\n",
            "3150/3150 [==============================] - 7s 2ms/step - loss: 0.0778 - val_loss: 0.1016\n",
            "Epoch 9/1000\n",
            "3150/3150 [==============================] - 7s 2ms/step - loss: 0.0755 - val_loss: 0.1002\n",
            "Epoch 10/1000\n",
            "3150/3150 [==============================] - 7s 2ms/step - loss: 0.0737 - val_loss: 0.0948\n",
            "Epoch 11/1000\n",
            "3150/3150 [==============================] - 7s 2ms/step - loss: 0.0717 - val_loss: 0.0944\n",
            "Epoch 12/1000\n",
            "3150/3150 [==============================] - 7s 2ms/step - loss: 0.0712 - val_loss: 0.0961\n",
            "Epoch 13/1000\n",
            "3150/3150 [==============================] - 7s 2ms/step - loss: 0.0700 - val_loss: 0.0935\n",
            "Epoch 14/1000\n",
            "3150/3150 [==============================] - 7s 2ms/step - loss: 0.0685 - val_loss: 0.0925\n",
            "Epoch 15/1000\n",
            "3150/3150 [==============================] - 7s 2ms/step - loss: 0.0674 - val_loss: 0.1008\n",
            "Epoch 16/1000\n",
            "3150/3150 [==============================] - 7s 2ms/step - loss: 0.0670 - val_loss: 0.0954\n",
            "Epoch 17/1000\n",
            "3150/3150 [==============================] - 7s 2ms/step - loss: 0.0660 - val_loss: 0.0920\n",
            "Epoch 18/1000\n",
            "3150/3150 [==============================] - 7s 2ms/step - loss: 0.0647 - val_loss: 0.0883\n",
            "Epoch 19/1000\n",
            "3150/3150 [==============================] - 7s 2ms/step - loss: 0.0640 - val_loss: 0.0945\n",
            "Epoch 20/1000\n",
            "3150/3150 [==============================] - 7s 2ms/step - loss: 0.0639 - val_loss: 0.0904\n",
            "Epoch 21/1000\n",
            "3150/3150 [==============================] - 7s 2ms/step - loss: 0.0628 - val_loss: 0.0896\n",
            "Epoch 22/1000\n",
            "3150/3150 [==============================] - 7s 2ms/step - loss: 0.0629 - val_loss: 0.0878\n",
            "Epoch 23/1000\n",
            "3150/3150 [==============================] - 7s 2ms/step - loss: 0.0619 - val_loss: 0.0855\n",
            "Epoch 24/1000\n",
            "3150/3150 [==============================] - 7s 2ms/step - loss: 0.0616 - val_loss: 0.0882\n",
            "Epoch 25/1000\n",
            "3150/3150 [==============================] - 7s 2ms/step - loss: 0.0610 - val_loss: 0.0870\n",
            "Epoch 26/1000\n",
            "3150/3150 [==============================] - 7s 2ms/step - loss: 0.0609 - val_loss: 0.0881\n",
            "Epoch 27/1000\n",
            "3150/3150 [==============================] - 7s 2ms/step - loss: 0.0601 - val_loss: 0.0978\n",
            "Epoch 28/1000\n",
            "3129/3150 [============================>.] - ETA: 0s - loss: 0.0596Restoring model weights from the end of the best epoch: 23.\n",
            "3150/3150 [==============================] - 7s 2ms/step - loss: 0.0596 - val_loss: 0.0858\n",
            "Epoch 28: early stopping\n"
          ]
        },
        {
          "output_type": "execute_result",
          "data": {
            "text/plain": [
              "<keras.callbacks.History at 0x7fb223f59510>"
            ]
          },
          "metadata": {},
          "execution_count": 20
        }
      ]
    },
    {
      "cell_type": "markdown",
      "source": [
        "#### Evaluation"
      ],
      "metadata": {
        "id": "jT5AlZxCHm2w"
      }
    },
    {
      "cell_type": "code",
      "source": [
        "prediction = model.predict(xTest)\n",
        "pred = np.argmax(prediction,axis=1)\n",
        "y_eval = np.argmax(yTest,axis=1)\n",
        "score = metrics.accuracy_score(y_eval, pred)\n",
        "print(\"Validation score: {}\".format(score))"
      ],
      "metadata": {
        "id": "LtRx0Y-TEamv",
        "colab": {
          "base_uri": "https://localhost:8080/"
        },
        "outputId": "751d0a5c-59d1-4fb4-d999-7a0ac51d29ca"
      },
      "execution_count": null,
      "outputs": [
        {
          "output_type": "stream",
          "name": "stdout",
          "text": [
            "Validation score: 0.7347853087295955\n"
          ]
        }
      ]
    },
    {
      "cell_type": "markdown",
      "source": [
        "### Validation"
      ],
      "metadata": {
        "id": "1VtHSIm_01TK"
      }
    },
    {
      "cell_type": "code",
      "source": [
        "# dos normal probe r2l u2r\n",
        "def count(index, array):\n",
        "  n=0\n",
        "  for arr in array:\n",
        "    if(arr[index]==1):\n",
        "      n=n+1\n",
        "  return n"
      ],
      "metadata": {
        "id": "IRlBdweO02ql"
      },
      "execution_count": null,
      "outputs": []
    },
    {
      "cell_type": "code",
      "source": [
        "#train\n",
        "print('dos',count(0, yTrain))\n",
        "print('normal',count(1, yTrain))\n",
        "print('probe',count(2, yTrain))\n",
        "print('r2l',count(3, yTrain))\n",
        "print('u2r',count(4, yTrain))"
      ],
      "metadata": {
        "id": "7Rynjx5C2C-m",
        "colab": {
          "base_uri": "https://localhost:8080/"
        },
        "outputId": "f0a187b5-ca31-4653-f1ac-511f14b76d93"
      },
      "execution_count": null,
      "outputs": [
        {
          "output_type": "stream",
          "name": "stdout",
          "text": [
            "dos 36746\n",
            "normal 53921\n",
            "probe 9299\n",
            "r2l 771\n",
            "u2r 41\n"
          ]
        }
      ]
    },
    {
      "cell_type": "code",
      "source": [
        "#validation\n",
        "print('dos',count(0, yVal))\n",
        "print('normal',count(1, yVal))\n",
        "print('probe',count(2, yVal))\n",
        "print('r2l',count(3, yVal))\n",
        "print('u2r',count(4, yVal))"
      ],
      "metadata": {
        "id": "3RwhAsEP3m0M",
        "colab": {
          "base_uri": "https://localhost:8080/"
        },
        "outputId": "65ab2f7b-148b-45d8-c7ed-3ddeb34c3b59"
      },
      "execution_count": null,
      "outputs": [
        {
          "output_type": "stream",
          "name": "stdout",
          "text": [
            "dos 9181\n",
            "normal 13422\n",
            "probe 2357\n",
            "r2l 224\n",
            "u2r 11\n"
          ]
        }
      ]
    },
    {
      "cell_type": "code",
      "source": [
        "#test\n",
        "print('dos',count(0, yTest))\n",
        "print('normal',count(1, yTest))\n",
        "print('probe',count(2, yTest))\n",
        "print('r2l',count(3, yTest))\n",
        "print('u2r',count(4, yTest))"
      ],
      "metadata": {
        "id": "TXyLapZ54L52",
        "colab": {
          "base_uri": "https://localhost:8080/"
        },
        "outputId": "91c5ede6-22b6-465f-8450-6f01f9f95a64"
      },
      "execution_count": null,
      "outputs": [
        {
          "output_type": "stream",
          "name": "stdout",
          "text": [
            "dos 7460\n",
            "normal 9711\n",
            "probe 2421\n",
            "r2l 2885\n",
            "u2r 67\n"
          ]
        }
      ]
    },
    {
      "cell_type": "code",
      "source": [
        "valScores = []\n",
        "for i in range(5):\n",
        "  index = 0\n",
        "  yRare = []\n",
        "  xRare = []\n",
        "  for array in yTest:\n",
        "    if(array[i]==1):\n",
        "      yRare.append(yTest[index].tolist())\n",
        "      xRare.append(xTest[index].tolist())\n",
        "    index = index + 1\n",
        "  prediction = model.predict(xRare)\n",
        "  pred = np.argmax(prediction,axis=1)\n",
        "  y_eval = np.argmax(yRare,axis=1)\n",
        "  score = metrics.accuracy_score(y_eval, pred)\n",
        "  valScores.append(score)"
      ],
      "metadata": {
        "id": "e7-VtXpyHV8C"
      },
      "execution_count": null,
      "outputs": []
    },
    {
      "cell_type": "code",
      "source": [
        "print('Validation score dos {:.3f}' .format(valScores[0]))\n",
        "print('Validation score normal {:.3f}' .format(valScores[1]))\n",
        "print('Validation score probe {:.3f}' .format(valScores[2]))\n",
        "print('Validation score r2l {:.3f}' .format(valScores[3]))\n",
        "print('Validation score u2r {:.3f}' .format(valScores[4]))"
      ],
      "metadata": {
        "id": "XcPdEQuXkOWs",
        "colab": {
          "base_uri": "https://localhost:8080/"
        },
        "outputId": "ff77667c-1e5f-4072-8b60-6e2bd41fe6f0"
      },
      "execution_count": null,
      "outputs": [
        {
          "output_type": "stream",
          "name": "stdout",
          "text": [
            "Validation score dos 0.846\n",
            "Validation score normal 0.928\n",
            "Validation score probe 0.515\n",
            "Validation score r2l 0.000\n",
            "Validation score u2r 0.000\n"
          ]
        }
      ]
    },
    {
      "cell_type": "markdown",
      "source": [
        "### Conversione"
      ],
      "metadata": {
        "id": "AfcFB3l1EkvD"
      }
    },
    {
      "cell_type": "code",
      "source": [
        "converter = tf.lite.TFLiteConverter.from_keras_model(model)\n",
        "tflite_model = converter.convert()"
      ],
      "metadata": {
        "id": "4hgCd0NjEj12"
      },
      "execution_count": null,
      "outputs": []
    },
    {
      "cell_type": "code",
      "source": [
        "open(\"/drive/My Drive/NSLKDD/seq_noShuffle_5class.tflite\",\"wb\").write(tflite_model)"
      ],
      "metadata": {
        "id": "4VNOpOXOEzfL",
        "colab": {
          "base_uri": "https://localhost:8080/"
        },
        "outputId": "ccc84bd5-3236-42a2-d847-fec3257bf259"
      },
      "execution_count": null,
      "outputs": [
        {
          "output_type": "execute_result",
          "data": {
            "text/plain": [
              "11716"
            ]
          },
          "metadata": {},
          "execution_count": 35
        }
      ]
    }
  ]
}